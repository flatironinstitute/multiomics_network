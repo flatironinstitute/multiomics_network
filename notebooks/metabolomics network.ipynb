{
 "cells": [
  {
   "cell_type": "markdown",
   "metadata": {},
   "source": [
    "# Network visualization\n",
    "\n",
    "This notebook constructs a network visualization connecting bacterial apecies to metabolic compounds."
   ]
  },
  {
   "cell_type": "code",
   "execution_count": 37,
   "metadata": {},
   "outputs": [
    {
     "data": {
      "text/html": [
       "<style>.container { width:100% !important; }</style>"
      ],
      "text/plain": [
       "<IPython.core.display.HTML object>"
      ]
     },
     "metadata": {},
     "output_type": "display_data"
    }
   ],
   "source": [
    "# Preliminaries\n",
    "%matplotlib inline\n",
    "\n",
    "import numpy as np\n",
    "import matplotlib.mlab as mlab\n",
    "import matplotlib.pyplot as plt\n",
    "from IPython.display import display, HTML\n",
    "\n",
    "def widen_notebook():\n",
    "    display(HTML(\"<style>.container { width:100% !important; }</style>\"))\n",
    "widen_notebook()"
   ]
  },
  {
   "cell_type": "code",
   "execution_count": 38,
   "metadata": {},
   "outputs": [
    {
     "name": "stdout",
     "output_type": "stream",
     "text": [
      "\u001b[34medges\u001b[m\u001b[m     edges.zip\r\n"
     ]
    }
   ],
   "source": [
    "# data files\n",
    "!ls ../data"
   ]
  },
  {
   "cell_type": "code",
   "execution_count": 39,
   "metadata": {},
   "outputs": [],
   "source": [
    "edges_txt = \"../data/edges/ihmp/edges.txt\"\n",
    "metabolites_txt = \"../data/edges/ihmp/metabolite_metadata.txt\"\n",
    "microbes_txt = \"../data/edges/ihmp/microbe_metadata.txt\""
   ]
  },
  {
   "cell_type": "code",
   "execution_count": 44,
   "metadata": {},
   "outputs": [
    {
     "data": {
      "text/plain": [
       "(600, 40886, 562)"
      ]
     },
     "execution_count": 44,
     "metadata": {},
     "output_type": "execute_result"
    }
   ],
   "source": [
    "# Read data files into lists of dictionaries\n",
    "def split_commas(line):\n",
    "    return line.strip().split(\"\\t\")\n",
    "\n",
    "def CSVtodicts(filename):\n",
    "    f = open(filename)\n",
    "    result = []\n",
    "    headers = split_commas(f.readline())\n",
    "    for line in f.readlines():\n",
    "        values = split_commas(line)\n",
    "        dictionary = dict(zip(headers, values))\n",
    "        result.append(dictionary)\n",
    "    return result\n",
    "\n",
    "edges = CSVtodicts(edges_txt)\n",
    "metabolites = CSVtodicts(metabolites_txt)\n",
    "microbes = CSVtodicts(microbes_txt)\n",
    "\n",
    "len(edges), len(metabolites), len(microbes)"
   ]
  },
  {
   "cell_type": "code",
   "execution_count": 46,
   "metadata": {},
   "outputs": [
    {
     "data": {
      "text/plain": [
       "{'cond_logit': 5.129806985778424,\n",
       " 'metabolite': 'C18n_QI5513',\n",
       " 'microbe': 'k__Bacteria|p__Firmicutes|c__Clostridia|o__Clostridiales|f__Clostridiaceae|g__Butyricicoccus'}"
      ]
     },
     "execution_count": 46,
     "metadata": {},
     "output_type": "execute_result"
    }
   ],
   "source": [
    "# Convert numeric column\n",
    "def float_column(name, dicts):\n",
    "    for d in dicts:\n",
    "        d[name] = float(d[name])\n",
    "\n",
    "ew = \"cond_logit\"\n",
    "float_column(ew, edges)\n",
    "edges[10]"
   ]
  },
  {
   "cell_type": "code",
   "execution_count": 47,
   "metadata": {},
   "outputs": [
    {
     "data": {
      "text/plain": [
       "{'HMDB (*Representative ID)': '',\n",
       " 'Intercept': '-3.5641323270341854',\n",
       " 'Metabolite': '',\n",
       " 'Method': 'C18-neg',\n",
       " 'Pooled QC sample CV': '0.255591787',\n",
       " 'RT': '0.33',\n",
       " 'diagnosis[T.UC]': '0.3680441616142343',\n",
       " 'diagnosis[T.nonIBD]': 0.35672915625546864,\n",
       " 'm/z': '162.8924',\n",
       " 'sampleid': 'C18n_QI855'}"
      ]
     },
     "execution_count": 47,
     "metadata": {},
     "output_type": "execute_result"
    }
   ],
   "source": [
    "d_col = 'diagnosis[T.nonIBD]'\n",
    "float_column(d_col, metabolites)\n",
    "metabolites[100]"
   ]
  },
  {
   "cell_type": "code",
   "execution_count": 48,
   "metadata": {},
   "outputs": [
    {
     "data": {
      "text/plain": [
       "{'Intercept': '0.3073111187096602',\n",
       " 'diagnosis[T.UC]': '-0.0699298184537378',\n",
       " 'diagnosis[T.nonIBD]': 0.15122810292498468,\n",
       " 'featureid': 'k__Bacteria|p__Bacteroidetes|c__Bacteroidia|o__Bacteroidales|f__Bacteroidaceae|g__Bacteroides|s__Bacteroides_xylanisolvens'}"
      ]
     },
     "execution_count": 48,
     "metadata": {},
     "output_type": "execute_result"
    }
   ],
   "source": [
    "float_column(d_col, microbes)\n",
    "microbes[111]"
   ]
  },
  {
   "cell_type": "code",
   "execution_count": 49,
   "metadata": {},
   "outputs": [
    {
     "data": {
      "image/png": "[encoded data removed]",
      "text/plain": [
       "<Figure size 432x288 with 1 Axes>"
      ]
     },
     "metadata": {
      "needs_background": "light"
     },
     "output_type": "display_data"
    },
    {
     "data": {
      "text/plain": [
       "'#5651a8'"
      ]
     },
     "execution_count": 49,
     "metadata": {},
     "output_type": "execute_result"
    }
   ],
   "source": [
    "# Data distribution histograms and color mappings\n",
    "from jp_gene_viz import color_scale\n",
    "\n",
    "def column_histogram(dictionaries, title, column=d_col):\n",
    "    weights = [m[column] for m in dictionaries]\n",
    "    num_bins = 10\n",
    "    n, bins, patches = plt.hist(weights, num_bins, facecolor='blue', alpha=0.5)\n",
    "    plt.title(title)\n",
    "    plt.show()\n",
    "    low_color = color_scale.clr(255,0,0)\n",
    "    high_color = color_scale.clr(0,123,255)\n",
    "    colorizer = color_scale.ColorInterpolator(low_color, high_color, min(weights), max(weights))\n",
    "    return colorizer\n",
    "\n",
    "microbe_colorizer = column_histogram(microbes, \"Microbe weights\")\n",
    "microbe_colorizer.interpolate_color(0.22)"
   ]
  },
  {
   "cell_type": "code",
   "execution_count": 50,
   "metadata": {},
   "outputs": [
    {
     "data": {
      "image/png": "[encoded data removed]",
      "text/plain": [
       "<Figure size 432x288 with 1 Axes>"
      ]
     },
     "metadata": {
      "needs_background": "light"
     },
     "output_type": "display_data"
    },
    {
     "data": {
      "text/plain": [
       "'#2b66d3'"
      ]
     },
     "execution_count": 50,
     "metadata": {},
     "output_type": "execute_result"
    }
   ],
   "source": [
    "metabolite_colorizer = column_histogram(metabolites, \"Metabolite weights\")\n",
    "metabolite_colorizer.interpolate_color(0.22)"
   ]
  },
  {
   "cell_type": "code",
   "execution_count": 51,
   "metadata": {},
   "outputs": [
    {
     "data": {
      "image/png": "[encoded data removed]",
      "text/plain": [
       "<Figure size 432x288 with 1 Axes>"
      ]
     },
     "metadata": {
      "needs_background": "light"
     },
     "output_type": "display_data"
    }
   ],
   "source": [
    "_ = column_histogram(edges, \"Edge weights\", ew)"
   ]
  },
  {
   "cell_type": "code",
   "execution_count": 52,
   "metadata": {},
   "outputs": [
    {
     "data": {
      "text/plain": [
       "'ViruNona'"
      ]
     },
     "execution_count": 52,
     "metadata": {},
     "output_type": "execute_result"
    }
   ],
   "source": [
    "# Abbreviate names.\n",
    "abbreviations = {}\n",
    "rabbrev = {}\n",
    "\n",
    "def abbreviate(name, limit=12):\n",
    "    result = name\n",
    "    if name in abbreviations:\n",
    "        return abbreviations[name]\n",
    "    if len(name) > limit:\n",
    "        if \"|\" in name:\n",
    "            result = name.split(\"|\")[-1]\n",
    "        if \"__\" in result:\n",
    "            result = name.split(\"__\")[-1]\n",
    "        if \"_\" in result:\n",
    "            chunks = result.split(\"_\")\n",
    "            chunks = [c[0:1].upper()+c[1:4].lower() for c in chunks]\n",
    "            result = \"\".join(chunks)\n",
    "    result = result[:limit]\n",
    "    x = result\n",
    "    count = 0\n",
    "    while result in rabbrev:\n",
    "        count+=1\n",
    "        result = x + \":\" + str(count)\n",
    "    abbreviations[name] = result\n",
    "    rabbrev[result] = name\n",
    "    return result\n",
    "\n",
    "abbreviate('k__Viruses|p__Viruses_noname|c__Viruses_noname|o__Viruses_noname')"
   ]
  },
  {
   "cell_type": "code",
   "execution_count": 56,
   "metadata": {},
   "outputs": [
    {
     "data": {
      "text/plain": [
       "('Verrucomicro:1',\n",
       " {'Intercept': '0.785784066784001',\n",
       "  'diagnosis[T.UC]': '-0.11705301219458253',\n",
       "  'diagnosis[T.nonIBD]': 0.6498781769301116,\n",
       "  'featureid': 'k__Bacteria|p__Verrucomicrobia|c__Verrucomicrobiae'})"
      ]
     },
     "execution_count": 56,
     "metadata": {},
     "output_type": "execute_result"
    }
   ],
   "source": [
    "# name abbreviation mappings.\n",
    "def microbe_name_dict(dicts):\n",
    "    return dict([abbreviate(d['featureid']), d] for d in dicts)\n",
    "\n",
    "name2microbe = microbe_name_dict(microbes)\n",
    "name2microbe.items()[15]"
   ]
  },
  {
   "cell_type": "code",
   "execution_count": 66,
   "metadata": {},
   "outputs": [],
   "source": [
    "def metabolite_name_dict(dicts):\n",
    "    #def f(x):\n",
    "    #if x['Metabolite'] == '':\n",
    "    #    return x['sampleid']\n",
    "    #else:\n",
    "    #    return x['Metabolite']\n",
    "    return dict([abbreviate(d['sampleid']), d] for d in dicts)"
   ]
  },
  {
   "cell_type": "code",
   "execution_count": 67,
   "metadata": {},
   "outputs": [
    {
     "data": {
      "text/plain": [
       "('C8p_QI28355',\n",
       " {'HMDB (*Representative ID)': '',\n",
       "  'Intercept': '-0.90594426035425',\n",
       "  'Metabolite': '',\n",
       "  'Method': 'C8-pos',\n",
       "  'Pooled QC sample CV': '0.510418331',\n",
       "  'RT': '3.29',\n",
       "  'diagnosis[T.UC]': '-4.415580539094426',\n",
       "  'diagnosis[T.nonIBD]': -1.0232884099782105,\n",
       "  'm/z': '940.5417',\n",
       "  'sampleid': 'C8p_QI28355'})"
      ]
     },
     "execution_count": 67,
     "metadata": {},
     "output_type": "execute_result"
    }
   ],
   "source": [
    "name2metabolite = metabolite_name_dict(metabolites)\n",
    "name2metabolite.items()[32]"
   ]
  },
  {
   "cell_type": "code",
   "execution_count": 68,
   "metadata": {},
   "outputs": [],
   "source": [
    "# Construct the network graph from the edges.\n",
    "from jp_gene_viz import dGraph\n",
    "G = dGraph.WGraph()\n",
    "for e in edges:\n",
    "    G.add_edge(abbreviate(e[\"microbe\"]), abbreviate(e[\"metabolite\"]), e[ew], e)"
   ]
  },
  {
   "cell_type": "code",
   "execution_count": 69,
   "metadata": {},
   "outputs": [],
   "source": [
    "# Construct the network widget from the graph\n",
    "from jp_gene_viz import dNetwork\n",
    "dNetwork.load_javascript_support()\n",
    "N = dNetwork.NetworkDisplay()\n",
    "N.load_data(G)"
   ]
  },
  {
   "cell_type": "code",
   "execution_count": 70,
   "metadata": {},
   "outputs": [
    {
     "data": {
      "application/vnd.jupyter.widget-view+json": {
       "model_id": "3a12ef52e25d4e05a6a0a80b19fda36b",
       "version_major": 2,
       "version_minor": 0
      },
      "text/plain": [
       "SEJveChjaGlsZHJlbj0oVkJveChjaGlsZHJlbj0oRHJvcGRvd24obGF5b3V0PUxheW91dCh3aWR0aD11JzE1MHB4JyksIG9wdGlvbnM9KCdTVkcnLCAnY2FudmFzJyksIHZhbHVlPSdTVkcnKSzigKY=\n"
      ]
     },
     "metadata": {},
     "output_type": "display_data"
    }
   ],
   "source": [
    "# Configure and display the network\n",
    "\n",
    "N.labels_button.value = True\n",
    "N.size_slider.value = 1000\n",
    "\n",
    "# colorize the nodes based on weights (hacky, sorry)\n",
    "dg = N.display_graph\n",
    "for node_name in dg.node_weights:\n",
    "    svg_name = dg.node_name(node_name)\n",
    "    if node_name in name2metabolite:\n",
    "        d = name2metabolite[node_name]\n",
    "        value = d[d_col]\n",
    "        N.color_overrides[svg_name] = metabolite_colorizer.interpolate_color(value)\n",
    "        #print svg_name, N.color_overrides[svg_name]\n",
    "        #break\n",
    "    else:\n",
    "        d = name2microbe[node_name]\n",
    "        value = d[d_col]\n",
    "        N.color_overrides[svg_name] = microbe_colorizer.interpolate_color(value)\n",
    "\n",
    "N.draw()\n",
    "N.show()"
   ]
  },
  {
   "cell_type": "code",
   "execution_count": null,
   "metadata": {},
   "outputs": [],
   "source": []
  }
 ],
 "metadata": {
  "kernelspec": {
   "display_name": "Python 2",
   "language": "python",
   "name": "python2"
  },
  "language_info": {
   "codemirror_mode": {
    "name": "ipython",
    "version": 2
   },
   "file_extension": ".py",
   "mimetype": "text/x-python",
   "name": "python",
   "nbconvert_exporter": "python",
   "pygments_lexer": "ipython2",
   "version": "2.7.15"
  }
 },
 "nbformat": 4,
 "nbformat_minor": 2
}
