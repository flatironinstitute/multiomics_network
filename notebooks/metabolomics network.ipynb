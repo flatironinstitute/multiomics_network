{
 "cells": [
  {
   "cell_type": "markdown",
   "metadata": {},
   "source": [
    "# Network visualization\n",
    "\n",
    "This notebook constructs a network visualization connecting bacterial apecies to metabolic compounds."
   ]
  },
  {
   "cell_type": "code",
   "execution_count": null,
   "metadata": {},
   "outputs": [],
   "source": [
    "# Preliminaries\n",
    "%matplotlib inline\n",
    "\n",
    "import numpy as np\n",
    "import matplotlib.mlab as mlab\n",
    "import matplotlib.pyplot as plt\n",
    "from IPython.display import display, HTML\n",
    "\n",
    "def widen_notebook():\n",
    "    display(HTML(\"<style>.container { width:100% !important; }</style>\"))\n",
    "widen_notebook()"
   ]
  },
  {
   "cell_type": "code",
   "execution_count": null,
   "metadata": {},
   "outputs": [],
   "source": [
    "# data files\n",
    "!ls ../data"
   ]
  },
  {
   "cell_type": "code",
   "execution_count": null,
   "metadata": {},
   "outputs": [],
   "source": [
    "edges_txt = \"../data/edges.txt\"\n",
    "metabolites_txt = \"../data/metabolite_metadata.txt\"\n",
    "microbes_txt = \"../data/microbe_metadata.txt\""
   ]
  },
  {
   "cell_type": "code",
   "execution_count": null,
   "metadata": {},
   "outputs": [],
   "source": [
    "# Read data files into lists of dictionaries\n",
    "def split_commas(line):\n",
    "    return line.strip().split(\",\")\n",
    "\n",
    "def CSVtodicts(filename):\n",
    "    f = open(filename)\n",
    "    result = []\n",
    "    headers = split_commas(f.readline())\n",
    "    for line in f.readlines():\n",
    "        values = split_commas(line)\n",
    "        dictionary = dict(zip(headers, values))\n",
    "        result.append(dictionary)\n",
    "    return result\n",
    "\n",
    "edges = CSVtodicts(edges_txt)\n",
    "metabolites = CSVtodicts(metabolites_txt)\n",
    "microbes = CSVtodicts(microbes_txt)\n",
    "\n",
    "len(edges), len(metabolites), len(microbes)"
   ]
  },
  {
   "cell_type": "code",
   "execution_count": null,
   "metadata": {},
   "outputs": [],
   "source": [
    "# Convert numeric column\n",
    "def float_column(name, dicts):\n",
    "    for d in dicts:\n",
    "        d[name] = float(d[name])\n",
    "\n",
    "ew = \"edge_weight\"\n",
    "float_column(ew, edges)\n",
    "edges[10]"
   ]
  },
  {
   "cell_type": "code",
   "execution_count": null,
   "metadata": {},
   "outputs": [],
   "source": [
    "d_col = 'diagnosis[T.nonIBD]'\n",
    "float_column(d_col, metabolites)\n",
    "metabolites[100]"
   ]
  },
  {
   "cell_type": "code",
   "execution_count": null,
   "metadata": {},
   "outputs": [],
   "source": [
    "float_column(d_col, microbes)\n",
    "microbes[111]"
   ]
  },
  {
   "cell_type": "code",
   "execution_count": null,
   "metadata": {},
   "outputs": [],
   "source": [
    "# Data distribution histograms and color mappings\n",
    "from jp_gene_viz import color_scale\n",
    "\n",
    "def column_histogram(dictionaries, title, column=d_col):\n",
    "    weights = [m[column] for m in dictionaries]\n",
    "    num_bins = 10\n",
    "    n, bins, patches = plt.hist(weights, num_bins, facecolor='blue', alpha=0.5)\n",
    "    plt.title(title)\n",
    "    plt.show()\n",
    "    low_color = color_scale.clr(255,0,0)\n",
    "    high_color = color_scale.clr(0,123,255)\n",
    "    colorizer = color_scale.ColorInterpolator(low_color, high_color, min(weights), max(weights))\n",
    "    return colorizer\n",
    "\n",
    "microbe_colorizer = column_histogram(microbes, \"Microbe weights\")\n",
    "microbe_colorizer.interpolate_color(0.22)"
   ]
  },
  {
   "cell_type": "code",
   "execution_count": null,
   "metadata": {},
   "outputs": [],
   "source": [
    "metabolite_colorizer = column_histogram(metabolites, \"Metabolite weights\")\n",
    "metabolite_colorizer.interpolate_color(0.22)"
   ]
  },
  {
   "cell_type": "code",
   "execution_count": null,
   "metadata": {},
   "outputs": [],
   "source": [
    "_ = column_histogram(edges, \"Edge weights\", ew)"
   ]
  },
  {
   "cell_type": "code",
   "execution_count": null,
   "metadata": {},
   "outputs": [],
   "source": [
    "# Abbreviate names.\n",
    "abbreviations = {}\n",
    "rabbrev = {}\n",
    "\n",
    "def abbreviate(name, limit=12):\n",
    "    result = name\n",
    "    if name in abbreviations:\n",
    "        return abbreviations[name]\n",
    "    if len(name) > limit:\n",
    "        if \"|\" in name:\n",
    "            result = name.split(\"|\")[-1]\n",
    "        if \"__\" in result:\n",
    "            result = name.split(\"__\")[-1]\n",
    "        if \"_\" in result:\n",
    "            chunks = result.split(\"_\")\n",
    "            chunks = [c[0:1].upper()+c[1:4].lower() for c in chunks]\n",
    "            result = \"\".join(chunks)\n",
    "    result = result[:limit]\n",
    "    x = result\n",
    "    count = 0\n",
    "    while result in rabbrev:\n",
    "        count+=1\n",
    "        result = x + \":\" + str(count)\n",
    "    abbreviations[name] = result\n",
    "    rabbrev[result] = name\n",
    "    return result\n",
    "\n",
    "abbreviate('k__Viruses|p__Viruses_noname|c__Viruses_noname|o__Viruses_noname')"
   ]
  },
  {
   "cell_type": "code",
   "execution_count": null,
   "metadata": {},
   "outputs": [],
   "source": [
    "# name abbreviation mappings.\n",
    "def name_dict(dicts):\n",
    "    return dict([abbreviate(d[\"\"]), d] for d in dicts)\n",
    "\n",
    "name2microbe = name_dict(microbes)\n",
    "name2microbe.items()[15]"
   ]
  },
  {
   "cell_type": "code",
   "execution_count": null,
   "metadata": {},
   "outputs": [],
   "source": [
    "name2metabolite = name_dict(metabolites)\n",
    "name2metabolite.items()[32]"
   ]
  },
  {
   "cell_type": "code",
   "execution_count": null,
   "metadata": {},
   "outputs": [],
   "source": [
    "# Construct the network graph from the edges.\n",
    "from jp_gene_viz import dGraph\n",
    "G = dGraph.WGraph()\n",
    "for e in edges:\n",
    "    G.add_edge(abbreviate(e[\"microbe\"]), abbreviate(e[\"metabolite\"]), e[\"edge_weight\"], e)"
   ]
  },
  {
   "cell_type": "code",
   "execution_count": null,
   "metadata": {},
   "outputs": [],
   "source": [
    "# Construct the network widget from the graph\n",
    "from jp_gene_viz import dNetwork\n",
    "dNetwork.load_javascript_support()\n",
    "N = dNetwork.NetworkDisplay()\n",
    "N.load_data(G)"
   ]
  },
  {
   "cell_type": "code",
   "execution_count": null,
   "metadata": {},
   "outputs": [],
   "source": [
    "# Configure and display the network\n",
    "\n",
    "N.labels_button.value = True\n",
    "N.size_slider.value = 1000\n",
    "\n",
    "# colorize the nodes based on weights (hacky, sorry)\n",
    "dg = N.display_graph\n",
    "for node_name in dg.node_weights:\n",
    "    svg_name = dg.node_name(node_name)\n",
    "    if node_name in name2metabolite:\n",
    "        d = name2metabolite[node_name]\n",
    "        value = d[d_col]\n",
    "        N.color_overrides[svg_name] = metabolite_colorizer.interpolate_color(value)\n",
    "        #print svg_name, N.color_overrides[svg_name]\n",
    "        #break\n",
    "    else:\n",
    "        d = name2microbe[node_name]\n",
    "        value = d[d_col]\n",
    "        N.color_overrides[svg_name] = microbe_colorizer.interpolate_color(value)\n",
    "\n",
    "N.draw()\n",
    "N.show()"
   ]
  },
  {
   "cell_type": "code",
   "execution_count": null,
   "metadata": {},
   "outputs": [],
   "source": []
  }
 ],
 "metadata": {
  "kernelspec": {
   "display_name": "Python 2",
   "language": "python",
   "name": "python2"
  },
  "language_info": {
   "codemirror_mode": {
    "name": "ipython",
    "version": 2
   },
   "file_extension": ".py",
   "mimetype": "text/x-python",
   "name": "python",
   "nbconvert_exporter": "python",
   "pygments_lexer": "ipython2",
   "version": "2.7.15"
  }
 },
 "nbformat": 4,
 "nbformat_minor": 2
}
